{
 "cells": [
  {
   "cell_type": "code",
   "execution_count": 1,
   "id": "8fd0b447-8f93-4b11-9e58-da450ebdb218",
   "metadata": {},
   "outputs": [
    {
     "name": "stdout",
     "output_type": "stream",
     "text": [
      "True\n"
     ]
    }
   ],
   "source": [
    "## 1  Given an array, check if it contains any duplicates or not. \n",
    "def has_duplicates(arr):\n",
    "  seen = set()\n",
    "  for element in arr:\n",
    "      if element in seen:\n",
    "          return True  # Found a duplicate\n",
    "      seen.add(element)\n",
    "  return False  # No duplicates found\n",
    "\n",
    "\n",
    "\n",
    "# Driver code\n",
    "arr = [1,2,4,2,5,9]\n",
    "result = has_duplicates(arr)\n",
    "print(result)"
   ]
  },
  {
   "cell_type": "code",
   "execution_count": 2,
   "id": "3186770f-edcf-43c4-8cff-b1574690cca3",
   "metadata": {},
   "outputs": [
    {
     "name": "stdout",
     "output_type": "stream",
     "text": [
      "The rotated array is  [5, 6, 7, 1, 2, 3, 4]\n"
     ]
    }
   ],
   "source": [
    "##  2 Given an array and an integer k, rotate the array to the right by k steps.\n",
    "def rotate_array(arr, k):\n",
    "  n = len(arr)\n",
    "  k = k % n\n",
    "\n",
    "  # Reverse the first k elements of the array\n",
    "  arr[ :n-k] = reversed(arr[ :n-k])\n",
    "  # Reverse the remaining elements of the array\n",
    "  arr[n-k: ] = reversed(arr[n-k: ])\n",
    "  # Reverse the entire array\n",
    "  arr[:] = reversed(arr)\n",
    "  return arr\n",
    "\n",
    "# Driver code\n",
    "arr = [1,2,3,4,5,6,7]\n",
    "k = 3\n",
    "result = rotate_array(arr, k)\n",
    "print(\"The rotated array is \",result)"
   ]
  },
  {
   "cell_type": "code",
   "execution_count": 3,
   "id": "e16af707-08dd-45ba-a538-d4303e52ed81",
   "metadata": {},
   "outputs": [
    {
     "name": "stdout",
     "output_type": "stream",
     "text": [
      "The reversed array is  [12, 9, 7, 5, 4, 2]\n"
     ]
    }
   ],
   "source": [
    "##   3  Reverse the given array in-place, means without using any extra data structure. \n",
    "def reverse_array(arr):\n",
    "  arr[0:len(arr)] = reversed(arr)\n",
    "  return arr\n",
    "\n",
    "\n",
    "\n",
    "# Driver code\n",
    "arr = [2, 4, 5, 7, 9, 12] \n",
    "result = reverse_array(arr)\n",
    "print(\"The reversed array is \",result)"
   ]
  },
  {
   "cell_type": "code",
   "execution_count": 4,
   "id": "43e2d059-d852-4a9a-a494-da31cc692bcd",
   "metadata": {},
   "outputs": [
    {
     "name": "stdout",
     "output_type": "stream",
     "text": [
      "The maximum element is  20\n"
     ]
    }
   ],
   "source": [
    "##   4  Given an array of integers, find the maximum element in an array\n",
    "def max_element(arr):  # Function to find max element in an array\n",
    "  if not arr:  #  Handle empty array.\n",
    "    return None  \n",
    "  max_element = arr[0]  \n",
    "  for element in arr:\n",
    "    if element > max_element:\n",
    "      max_element = element\n",
    "\n",
    "  return max_element\n",
    "# Driver code\n",
    "arr = [10, 5, 20, 8, 15]\n",
    "result = max_element(arr)\n",
    "\n",
    "print(\"The maximum element is \",result)"
   ]
  },
  {
   "cell_type": "code",
   "execution_count": 5,
   "id": "01b2e88b-e94e-4988-a174-7fca6f596606",
   "metadata": {},
   "outputs": [
    {
     "name": "stdout",
     "output_type": "stream",
     "text": [
      "Array after removing duplicates: [1, 2, 3, 4, 5]\n"
     ]
    }
   ],
   "source": [
    "##   5 Given a sorted array, remove the duplicate element without using any extra data structure. \n",
    "def remove_duplicates(arr):\n",
    "  if not arr:\n",
    "      return 0  # Empty array has no duplicates\n",
    "\n",
    "  n = len(arr)\n",
    "  unique_index = 0  # Index to track the position of unique elements\n",
    "\n",
    "  for i in range(1, n):\n",
    "      if arr[i] != arr[unique_index]:\n",
    "          unique_index += 1\n",
    "          arr[unique_index] = arr[i]\n",
    "\n",
    "  # The length of the new array with unique elements\n",
    "  new_length = unique_index + 1\n",
    "\n",
    "  return new_length\n",
    "\n",
    "# Example usage\n",
    "arr = [1, 1, 2, 2, 2, 3, 3, 4, 4, 4, 5, 5]\n",
    "new_length = remove_duplicates(arr)\n",
    "\n",
    "print(\"Array after removing duplicates:\", arr[:new_length])"
   ]
  },
  {
   "cell_type": "code",
   "execution_count": null,
   "id": "b71deedc-3ae3-4134-b164-30e199997934",
   "metadata": {},
   "outputs": [],
   "source": []
  }
 ],
 "metadata": {
  "kernelspec": {
   "display_name": "Python 3 (ipykernel)",
   "language": "python",
   "name": "python3"
  },
  "language_info": {
   "codemirror_mode": {
    "name": "ipython",
    "version": 3
   },
   "file_extension": ".py",
   "mimetype": "text/x-python",
   "name": "python",
   "nbconvert_exporter": "python",
   "pygments_lexer": "ipython3",
   "version": "3.10.8"
  }
 },
 "nbformat": 4,
 "nbformat_minor": 5
}
