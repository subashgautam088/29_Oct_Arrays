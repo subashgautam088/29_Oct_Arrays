{
 "cells": [
  {
   "cell_type": "code",
   "execution_count": 1,
   "id": "8fd0b447-8f93-4b11-9e58-da450ebdb218",
   "metadata": {},
   "outputs": [
    {
     "name": "stdout",
     "output_type": "stream",
     "text": [
      "True\n"
     ]
    }
   ],
   "source": [
    "## 1  Given an array, check if it contains any duplicates or not. \n",
    "def has_duplicates(arr):\n",
    "  seen = set()\n",
    "  for element in arr:\n",
    "      if element in seen:\n",
    "          return True  # Found a duplicate\n",
    "      seen.add(element)\n",
    "  return False  # No duplicates found\n",
    "\n",
    "\n",
    "\n",
    "# Driver code\n",
    "arr = [1,2,4,2,5,9]\n",
    "result = has_duplicates(arr)\n",
    "print(result)"
   ]
  },
  {
   "cell_type": "code",
   "execution_count": 2,
   "id": "3186770f-edcf-43c4-8cff-b1574690cca3",
   "metadata": {},
   "outputs": [
    {
     "name": "stdout",
     "output_type": "stream",
     "text": [
      "The rotated array is  [5, 6, 7, 1, 2, 3, 4]\n"
     ]
    }
   ],
   "source": [
    "##  2 Given an array and an integer k, rotate the array to the right by k steps.\n",
    "def rotate_array(arr, k):\n",
    "  n = len(arr)\n",
    "  k = k % n\n",
    "\n",
    "  # Reverse the first k elements of the array\n",
    "  arr[ :n-k] = reversed(arr[ :n-k])\n",
    "  # Reverse the remaining elements of the array\n",
    "  arr[n-k: ] = reversed(arr[n-k: ])\n",
    "  # Reverse the entire array\n",
    "  arr[:] = reversed(arr)\n",
    "  return arr\n",
    "\n",
    "# Driver code\n",
    "arr = [1,2,3,4,5,6,7]\n",
    "k = 3\n",
    "result = rotate_array(arr, k)\n",
    "print(\"The rotated array is \",result)"
   ]
  },
  {
   "cell_type": "code",
   "execution_count": null,
   "id": "e16af707-08dd-45ba-a538-d4303e52ed81",
   "metadata": {},
   "outputs": [],
   "source": [
    "##   3  Reverse the given array in-place, means without using any extra data structure. \n",
    "def reverse_array(arr):\n",
    "  arr[0:len(arr)] = reversed(arr)\n",
    "  return arr\n",
    "\n",
    "\n",
    "\n",
    "# Driver code\n",
    "arr = [2, 4, 5, 7, 9, 12] \n",
    "result = reverse_array(arr)\n",
    "print(\"The reversed array is \",result)"
   ]
  }
 ],
 "metadata": {
  "kernelspec": {
   "display_name": "Python 3 (ipykernel)",
   "language": "python",
   "name": "python3"
  },
  "language_info": {
   "codemirror_mode": {
    "name": "ipython",
    "version": 3
   },
   "file_extension": ".py",
   "mimetype": "text/x-python",
   "name": "python",
   "nbconvert_exporter": "python",
   "pygments_lexer": "ipython3",
   "version": "3.10.8"
  }
 },
 "nbformat": 4,
 "nbformat_minor": 5
}
